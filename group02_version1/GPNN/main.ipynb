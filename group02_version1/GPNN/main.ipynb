{
  "cells": [
    {
      "attachments": {},
      "cell_type": "markdown",
      "metadata": {
        "id": "t5s9egwheCcp"
      },
      "source": [
        "# An Implementation of Drop the GAN: In Defense of Patches Nearest Neighbors as Single Image Generative Models (CVPR 2022)\n",
        "\n",
        "[Link to paper](https://openaccess.thecvf.com/content/CVPR2022/papers/Granot_Drop_the_GAN_In_Defense_of_Patches_Nearest_Neighbors_As_CVPR_2022_paper.pdf)\n",
        "\n",
        "[Link to Colab](https://colab.research.google.com/drive/1vHPTuevg6NzkzF2c-_jqM1NH_2277eW9?usp=sharing)\n",
        "\n",
        "Paper Authors: Niv Granot, Ben Feinstein, Assaf Shocher, Shai Bagon, Michal Irani\n",
        "\n",
        "\n",
        "Code Authors: Alparslan Sertel - sertel.alparslan@metu.edu.tr, Ege Demir - ege.demir@metu.edu.tr\n",
        "\n",
        "The paper argues against the belief that GANs are superior to classical and rather unsophisticated patch-based methods for image manipulation tasks. The authors express that patch-based methods can be alternated to perform tasks that are considered as “GAN-only”, and even outperform GANs in terms of visual quality and application speed. They propose the adapted patch-patch based method GPNN (Generative Patch Nearest Neighbors) with several modifications \n",
        "\n",
        "It is argued that the proposed model is able to generate diverse images from a single neutral image. The model outperforms GANs in terms of the visual quality of the output and the runtime of image generation (from hours to seconds).\n",
        "\n",
        "**Implementation Notes**\n",
        "\n",
        "Our model is non-parametric so there is no training/saving the model.\n",
        "\n",
        "The hyperparameters are not provided in the paper, we had to find them manually. We did not have the time for a complete grid search so these hyperparameters are probably suboptimal.\n",
        "\n",
        "The details of image resizing were not provided in the article. We used the default resizing method of PIL.\n",
        "\n",
        "The article uses a Gaussian filter when aggregating patches. We skipped this for now and used the mean of the overlapping pixels for combining them instead for simplicity. We will implement Gaussian filters in v2.\n",
        "\n",
        "We did not get the results we aimed for because of GPU memory issues. We are hoping to resolve this in v2. We doubt this notebook will run in an environment with <16 GB VRAM. The notebook has been tested in Colab.\n",
        "\n",
        "—— version 1 submission ——\n",
        "We did not change our goals.\n",
        "We could not achieve the goals but we are confident that we will be able to in v2. You can find our qualitative and quantitative results in the notebook. \n",
        "The main problem we are facing is GPU VRAM. We are trying to do a very large matrix multiplication which results in OOM. We do not have to load all of the matrix for the multiplication and we are going to implement this for v2.\n",
        "Once we resolve this we are going to be able to get much higher quality generations. Right now, we have to use very small patch size which we know to lead to bad quality generations. For some cases we are able to get good results, which can be seen in the qualitative results in the notebook. This depends on the nature and resolution of the image.\n",
        "We have all the necessary infrastructure in place and we will be reducing the memory requirements of our model and finding the optimal hyperparameters. Hyperparameters could also be the problem as they were not given in the paper and we could not do a proper grid search.\n",
        "\n",
        "\n",
        "\n",
        "\n",
        "\n"
      ]
    },
    {
      "attachments": {},
      "cell_type": "markdown",
      "metadata": {
        "id": "HLHCSakaYetP"
      },
      "source": [
        "# Model"
      ]
    },
    {
      "cell_type": "code",
      "execution_count": 1,
      "metadata": {
        "id": "pP_Tmbp262G9"
      },
      "outputs": [],
      "source": [
        "import numpy as np\n",
        "from PIL import Image\n",
        "from numpy.lib.stride_tricks import as_strided\n",
        "import torch"
      ]
    },
    {
      "cell_type": "code",
      "execution_count": 2,
      "metadata": {
        "id": "GTmDOqPf62HB"
      },
      "outputs": [],
      "source": [
        "# Divide an image into overlapping PxP patches\n",
        "def get_image_patches(image, patch_size):\n",
        "\n",
        "    stride_w = image.strides[0]  # stride of width\n",
        "    stride_h = image.strides[1]  # stride of height\n",
        "    stride_c = image.strides[2]  # stride of channel\n",
        "\n",
        "    width, height, _ = image.shape\n",
        "    patch_width, patch_height = patch_size, patch_size\n",
        "\n",
        "    assert width >= patch_width\n",
        "    assert height >= patch_height\n",
        "\n",
        "    num_patches_w = width - patch_width + 1\n",
        "    num_patches_h = height - patch_height + 1\n",
        "\n",
        "    patches = as_strided(image, shape=(num_patches_w, num_patches_h, patch_width, patch_height, 3),\n",
        "                         strides=(stride_w, stride_h, stride_w, stride_h, stride_c))\n",
        "\n",
        "    return patches"
      ]
    },
    {
      "cell_type": "code",
      "execution_count": 3,
      "metadata": {
        "id": "is7VANOlQBhk"
      },
      "outputs": [],
      "source": [
        "# Compute the distance between two images (patches)\n",
        "def compute_distance_between_images(list1, list2, alpha):\n",
        "\n",
        "    num_images1, height1, width1, channels1 = list1.shape\n",
        "    num_images2, height2, width2, channels2 = list2.shape\n",
        "\n",
        "    mse_values = np.zeros((num_images1, num_images2))\n",
        "\n",
        "    for i in range(num_images1):\n",
        "        for j in range(num_images2):\n",
        "            mse = np.mean((list1[i] - list2[j]) ** 2)\n",
        "            mse_values[i, j] = mse\n",
        "\n",
        "    mse_values = mse_values / ((np.min(mse_values, axis=1))[:, np.newaxis] + alpha)\n",
        "\n",
        "    return mse_values"
      ]
    },
    {
      "cell_type": "code",
      "execution_count": 12,
      "metadata": {
        "id": "QT5lMVJV_owd"
      },
      "outputs": [],
      "source": [
        "# Same as above, in Torch\n",
        "def compute_distance_between_images_pytorch(list1, list2, alpha):\n",
        "\n",
        "    list1 = torch.from_numpy(list1.astype(np.float16)).to(device)\n",
        "    list2 = torch.from_numpy(list2.astype(np.float16)).to(device)\n",
        "\n",
        "    num_images1, height1, width1, channels1 = list1.shape\n",
        "    num_images2, height2, width2, channels2 = list2.shape\n",
        "\n",
        "    list1_reshape = list1.view(num_images1, -1)\n",
        "    list2_reshape = list2.view(num_images2, -1)\n",
        "\n",
        "    list1_reshape = list1_reshape.unsqueeze(1)\n",
        "    list2_reshape = list2_reshape.unsqueeze(0)\n",
        "\n",
        "    # Normalized by 256, else the distance blows up to infinity\n",
        "    distances = torch.cdist(list1_reshape/256, list2_reshape/256, p=2)\n",
        "\n",
        "    mse_values = torch.mean(distances.pow(2), dim=1)\n",
        "\n",
        "    mse_values = mse_values / (torch.min(mse_values, dim=1, keepdim=True).values + alpha)\n",
        "\n",
        "    mse_values = mse_values.cpu().numpy()\n",
        "\n",
        "    return mse_values\n"
      ]
    },
    {
      "cell_type": "code",
      "execution_count": 5,
      "metadata": {
        "id": "Q8dKd22A62HE"
      },
      "outputs": [],
      "source": [
        "def aggregate_patches(image, output, P):\n",
        "\n",
        "    new_image = np.zeros_like(image)\n",
        "    counter = np.zeros_like(image)\n",
        "\n",
        "    for i in range(output.shape[0]):\n",
        "        for j in range(output.shape[1]):\n",
        "            new_image[i:i+P, j:j+P] += output[i, j] # Gaussian filter must be used however\n",
        "                                                    # mean of the pixels is used for v1\n",
        "            counter[i:i+P, j:j+P] += 1\n",
        "\n",
        "    new_image = new_image // counter\n",
        "\n",
        "    return new_image\n"
      ]
    },
    {
      "cell_type": "code",
      "execution_count": 27,
      "metadata": {
        "id": "kdP6WJ2V62HF"
      },
      "outputs": [],
      "source": [
        "def pnn(image, Q, K, V, V_shape, alpha, P, C):\n",
        "\n",
        "    # When using PyTorch we can work much faster so we are able to generate at \n",
        "    # higher resolutions (it is a matter of computation time, not memory)\n",
        "    # but since we are limited by GPU memory we cannot use higher patch sizes\n",
        "    # > 3 (matter of memory). Using CPU we saw that P=8 seems to be the best \n",
        "    # but in this case we cannot get high resolution generations because \n",
        "    # generations take a long time\n",
        "\n",
        "    #distances = compute_distance_between_images_pytorch(Q, K, alpha) # Speed & resolution, GPU\n",
        "    distances = compute_distance_between_images(Q, K, alpha) # Quality, CPU\n",
        "\n",
        "    nearest_neighbors = np.argmin(distances, axis=1)\n",
        "    output = V[nearest_neighbors]\n",
        "    output = output.reshape(V_shape[0], V_shape[1], P, P, C)\n",
        "    output = aggregate_patches(image, output, P)\n",
        "    \n",
        "    return output"
      ]
    },
    {
      "cell_type": "code",
      "execution_count": 31,
      "metadata": {
        "id": "CjaXEhcU62HG"
      },
      "outputs": [],
      "source": [
        "def gpnn(image, N, T, R, alpha, P, C):\n",
        "    # Pyramid of smaller images, descending in size\n",
        "    smaller_image_arrs = [np.asarray(image.resize((int(image.size[0]/(i * R)), int(image.size[1]/(i * R)))), dtype=np.uint16) for i in range(1, N+1)]\n",
        "    smaller_image_arrs.insert(0, np.asarray(image))\n",
        "\n",
        "    for n in range(N):\n",
        "        if not n: # T=1 for Nth step\n",
        "            #Nth step (coarsest scale)\n",
        "            # Noise is normalized by 64 which is determined empirically\n",
        "            noise = np.random.normal(size=smaller_image_arrs[-1].shape) * 64\n",
        "            Q = smaller_image_arrs[-1] + noise # y_n+1\n",
        "            Q = get_image_patches(Q, P)\n",
        "            Q = Q.reshape(-1, P, P, C)\n",
        "\n",
        "            V = smaller_image_arrs[-1] # x_n\n",
        "            V = get_image_patches(V, P)\n",
        "            V_shape = V.shape\n",
        "            V = V.reshape(-1, P, P, C)\n",
        "\n",
        "            K = smaller_image_arrs[-1] # x_n+1\n",
        "            K = get_image_patches(K, P)\n",
        "            K = K.reshape(-1, P, P, C)\n",
        "\n",
        "            generated = pnn(smaller_image_arrs[-1], Q, K, V, V_shape, alpha, P, C)\n",
        "\n",
        "        else:\n",
        "            # Generation from the prev step is resized for the next step\n",
        "            generated = Image.fromarray(generated.astype(np.uint8)).resize((smaller_image_arrs[-1 * (1 + n)].shape[0], smaller_image_arrs[-1 * (1 + n)].shape[1]))\n",
        "            generated = np.asarray(generated, dtype=np.uint16)\n",
        "\n",
        "            # V is the source image at n\n",
        "            V = smaller_image_arrs[-1 * (1 + n)] # x_n\n",
        "            V = get_image_patches(V, P)\n",
        "            V_shape = V.shape\n",
        "            V = V.reshape(-1, P, P, C)\n",
        "\n",
        "            # K is the source image at n+1, upscaled (blurry)\n",
        "            K = Image.fromarray(smaller_image_arrs[-1 * (n)].astype(np.uint8)).resize((smaller_image_arrs[-1 * (1 + n)].shape[0], smaller_image_arrs[-1 * (1 + n)].shape[1]))\n",
        "            K = np.asarray(K, dtype=np.uint16)\n",
        "            K = get_image_patches(K, P)\n",
        "            K = K.reshape(-1, P, P, C)\n",
        "\n",
        "            # Q is the initial guess, at first from the previous step and\n",
        "            # then updated at every t as the current guess at step n\n",
        "            for t in range(T):\n",
        "                Q = generated\n",
        "                Q = get_image_patches(Q, P)\n",
        "                Q = Q.reshape(-1, P, P, C)\n",
        "\n",
        "                generated = pnn(smaller_image_arrs[-1 * (1 + n)], Q, K, V, V_shape, alpha, P, C)\n",
        "\n",
        "        #Image.fromarray(generated.astype(np.uint8)).show() # Enable this to show pyramid generations\n",
        "        torch.cuda.empty_cache()\n",
        "\n",
        "    return Image.fromarray(generated.astype(np.uint8))\n",
        "\n",
        "\n"
      ]
    },
    {
      "attachments": {},
      "cell_type": "markdown",
      "metadata": {
        "id": "bDV6KNyzYjDL"
      },
      "source": [
        "# Hyperparams"
      ]
    },
    {
      "cell_type": "code",
      "execution_count": 8,
      "metadata": {
        "colab": {
          "base_uri": "https://localhost:8080/"
        },
        "id": "UP5ZTEdJWBvl",
        "outputId": "59427e4d-b843-4206-f848-8abeea842361"
      },
      "outputs": [
        {
          "data": {
            "text/plain": [
              "device(type='cuda')"
            ]
          },
          "execution_count": 8,
          "metadata": {},
          "output_type": "execute_result"
        }
      ],
      "source": [
        "device = torch.device(\"cuda\" if torch.cuda.is_available() else \"cpu\")\n",
        "\n",
        "device"
      ]
    },
    {
      "cell_type": "code",
      "execution_count": 33,
      "metadata": {
        "id": "ZLrrY8Es62HG"
      },
      "outputs": [],
      "source": [
        "# Hyperparameters\n",
        "# These were not given in the paper except for alpha, and they were selected\n",
        "# based on good qualitative performance and runtime\n",
        "\n",
        "P = 8 # Patch size, 8 works the best but 3 is the max P for GPU\n",
        "R = 2 # Resizing factor\n",
        "N = 10 # Steps in pyramid, 10 for qualitative\n",
        "alpha = 5 * 0.001 # Alpha in the distance func denominator\n",
        "T = 10 # Number of iterations in each level, T = 1 in coarsest level, T=5 for qualitative"
      ]
    },
    {
      "attachments": {},
      "cell_type": "markdown",
      "metadata": {
        "id": "IEL3y1d7YvVK"
      },
      "source": [
        "# Quantitative Results"
      ]
    },
    {
      "cell_type": "code",
      "execution_count": 17,
      "metadata": {
        "colab": {
          "base_uri": "https://localhost:8080/"
        },
        "id": "2qDmwkxNY3QD",
        "outputId": "95499750-080b-4f90-c0c0-eb7371447a00"
      },
      "outputs": [
        {
          "name": "stdout",
          "output_type": "stream",
          "text": [
            "fatal: destination path 'SinGAN' already exists and is not an empty directory.\n"
          ]
        }
      ],
      "source": [
        "!git clone https://github.com/tamarott/SinGAN"
      ]
    },
    {
      "cell_type": "code",
      "execution_count": 18,
      "metadata": {
        "id": "PuC4Nb5vdvaY"
      },
      "outputs": [],
      "source": [
        "!python -m pip install -qq -r SinGAN/requirements.txt"
      ]
    },
    {
      "cell_type": "code",
      "execution_count": 21,
      "metadata": {
        "id": "0fQSHh9PwX0c"
      },
      "outputs": [],
      "source": [
        "!mv *.jpg real/"
      ]
    },
    {
      "cell_type": "code",
      "execution_count": null,
      "metadata": {
        "id": "Mzq3P9JahccS"
      },
      "outputs": [],
      "source": [
        "import glob\n",
        "\n",
        "path = r'real/*.jpg'\n",
        "files = glob.glob(path)\n",
        "\n",
        "for f in files:\n",
        "  image = Image.open(f)\n",
        "  C = len(image.getbands())\n",
        "\n",
        "  generated = gpnn(image, N, T, R, alpha, P, C)\n",
        "  generated.save('fake/' + f.split('/')[-1])\n",
        "  "
      ]
    },
    {
      "cell_type": "code",
      "execution_count": 25,
      "metadata": {
        "colab": {
          "base_uri": "https://localhost:8080/"
        },
        "id": "433Bjo9Kd4b1",
        "outputId": "0936e11f-ca4b-488e-a85e-3b716a564320"
      },
      "outputs": [
        {
          "name": "stdout",
          "output_type": "stream",
          "text": [
            "/usr/local/lib/python3.10/dist-packages/torchvision/models/_utils.py:208: UserWarning: The parameter 'pretrained' is deprecated since 0.13 and may be removed in the future, please use 'weights' instead.\n",
            "  warnings.warn(\n",
            "/usr/local/lib/python3.10/dist-packages/torchvision/models/_utils.py:223: UserWarning: Arguments other than a weight enum or `None` for 'weights' are deprecated since 0.13 and may be removed in the future. The current behavior is equivalent to passing `weights=Inception_V3_Weights.IMAGENET1K_V1`. You can also use `weights=Inception_V3_Weights.DEFAULT` to get the most up-to-date weights.\n",
            "  warnings.warn(msg)\n",
            "Downloading: \"https://download.pytorch.org/models/inception_v3_google-0cc3c7bd.pth\" to /root/.cache/torch/hub/checkpoints/inception_v3_google-0cc3c7bd.pth\n",
            "100% 104M/104M [00:04<00:00, 23.7MB/s]\n",
            "100% 1/1 [00:00<00:00,  8.39it/s]\n",
            "100% 1/1 [00:00<00:00, 138.16it/s]\n",
            "100% 1/1 [00:00<00:00, 72.66it/s]\n",
            "100% 1/1 [00:00<00:00, 219.38it/s]\n",
            "100% 1/1 [00:00<00:00, 60.55it/s]\n",
            "100% 1/1 [00:00<00:00, 144.20it/s]\n",
            "100% 1/1 [00:00<00:00, 66.16it/s]\n",
            "100% 1/1 [00:00<00:00, 199.92it/s]\n",
            "100% 1/1 [00:00<00:00, 65.02it/s]\n",
            "100% 1/1 [00:00<00:00, 195.47it/s]\n",
            "100% 1/1 [00:00<00:00, 50.97it/s]\n",
            "100% 1/1 [00:00<00:00, 131.11it/s]\n",
            "100% 1/1 [00:00<00:00, 65.31it/s]\n",
            "100% 1/1 [00:00<00:00, 143.32it/s]\n",
            "100% 1/1 [00:00<00:00, 93.01it/s]\n",
            "100% 1/1 [00:00<00:00, 329.04it/s]\n",
            "100% 1/1 [00:00<00:00, 104.94it/s]\n",
            "100% 1/1 [00:00<00:00, 330.31it/s]\n",
            "100% 1/1 [00:00<00:00, 107.79it/s]\n",
            "100% 1/1 [00:00<00:00, 344.70it/s]\n",
            "100% 1/1 [00:00<00:00, 97.54it/s]\n",
            "100% 1/1 [00:00<00:00, 337.95it/s]\n",
            "100% 1/1 [00:00<00:00, 84.65it/s]\n",
            "100% 1/1 [00:00<00:00, 211.99it/s]\n",
            "100% 1/1 [00:00<00:00, 95.13it/s]\n",
            "100% 1/1 [00:00<00:00, 292.06it/s]\n",
            "100% 1/1 [00:00<00:00, 81.06it/s]\n",
            "100% 1/1 [00:00<00:00, 305.80it/s]\n",
            "100% 1/1 [00:00<00:00, 112.34it/s]\n",
            "100% 1/1 [00:00<00:00, 357.94it/s]\n",
            "100% 1/1 [00:00<00:00, 111.38it/s]\n",
            "100% 1/1 [00:00<00:00, 224.80it/s]\n",
            "100% 1/1 [00:00<00:00, 95.90it/s]\n",
            "100% 1/1 [00:00<00:00, 252.49it/s]\n",
            "100% 1/1 [00:00<00:00, 67.26it/s]\n",
            "100% 1/1 [00:00<00:00, 181.44it/s]\n",
            "100% 1/1 [00:00<00:00, 105.55it/s]\n",
            "100% 1/1 [00:00<00:00, 299.76it/s]\n",
            "100% 1/1 [00:00<00:00, 104.79it/s]\n",
            "100% 1/1 [00:00<00:00, 307.86it/s]\n",
            "100% 1/1 [00:00<00:00, 91.06it/s]\n",
            "100% 1/1 [00:00<00:00, 349.96it/s]\n",
            "100% 1/1 [00:00<00:00, 108.88it/s]\n",
            "100% 1/1 [00:00<00:00, 312.59it/s]\n",
            "100% 1/1 [00:00<00:00, 77.23it/s]\n",
            "100% 1/1 [00:00<00:00, 231.08it/s]\n",
            "100% 1/1 [00:00<00:00, 103.62it/s]\n",
            "100% 1/1 [00:00<00:00, 271.55it/s]\n",
            "100% 1/1 [00:00<00:00, 105.80it/s]\n",
            "100% 1/1 [00:00<00:00, 310.53it/s]\n",
            "100% 1/1 [00:00<00:00, 118.21it/s]\n",
            "100% 1/1 [00:00<00:00, 329.43it/s]\n",
            "100% 1/1 [00:00<00:00, 116.02it/s]\n",
            "100% 1/1 [00:00<00:00, 312.80it/s]\n",
            "100% 1/1 [00:00<00:00, 89.63it/s]\n",
            "100% 1/1 [00:00<00:00, 353.98it/s]\n",
            "100% 1/1 [00:00<00:00, 82.52it/s]\n",
            "100% 1/1 [00:00<00:00, 189.17it/s]\n",
            "100% 1/1 [00:00<00:00, 104.72it/s]\n",
            "100% 1/1 [00:00<00:00, 307.95it/s]\n",
            "100% 1/1 [00:00<00:00, 82.69it/s]\n",
            "100% 1/1 [00:00<00:00, 247.39it/s]\n",
            "100% 1/1 [00:00<00:00, 105.23it/s]\n",
            "100% 1/1 [00:00<00:00, 314.30it/s]\n",
            "100% 1/1 [00:00<00:00, 106.88it/s]\n",
            "100% 1/1 [00:00<00:00, 308.68it/s]\n",
            "100% 1/1 [00:00<00:00, 95.06it/s]\n",
            "100% 1/1 [00:00<00:00, 172.75it/s]\n",
            "100% 1/1 [00:00<00:00, 80.98it/s]\n",
            "100% 1/1 [00:00<00:00, 194.51it/s]\n",
            "100% 1/1 [00:00<00:00, 94.19it/s]\n",
            "100% 1/1 [00:00<00:00, 157.30it/s]\n",
            "100% 1/1 [00:00<00:00, 78.35it/s]\n",
            "100% 1/1 [00:00<00:00, 188.36it/s]\n",
            "100% 1/1 [00:00<00:00, 45.68it/s]\n",
            "100% 1/1 [00:00<00:00, 191.08it/s]\n",
            "100% 1/1 [00:00<00:00, 44.49it/s]\n",
            "100% 1/1 [00:00<00:00, 118.95it/s]\n",
            "100% 1/1 [00:00<00:00, 64.83it/s]\n",
            "100% 1/1 [00:00<00:00, 195.90it/s]\n",
            "100% 1/1 [00:00<00:00, 63.14it/s]\n",
            "100% 1/1 [00:00<00:00, 203.26it/s]\n",
            "100% 1/1 [00:00<00:00, 72.23it/s]\n",
            "100% 1/1 [00:00<00:00, 209.76it/s]\n",
            "100% 1/1 [00:00<00:00, 63.23it/s]\n",
            "100% 1/1 [00:00<00:00, 177.41it/s]\n",
            "100% 1/1 [00:00<00:00, 50.52it/s]\n",
            "100% 1/1 [00:00<00:00, 159.18it/s]\n",
            "100% 1/1 [00:00<00:00, 67.12it/s]\n",
            "100% 1/1 [00:00<00:00, 200.27it/s]\n",
            "100% 1/1 [00:00<00:00, 67.39it/s]\n",
            "100% 1/1 [00:00<00:00, 197.86it/s]\n",
            "100% 1/1 [00:00<00:00, 77.00it/s]\n",
            "100% 1/1 [00:00<00:00, 262.23it/s]\n",
            "100% 1/1 [00:00<00:00, 108.39it/s]\n",
            "100% 1/1 [00:00<00:00, 334.63it/s]\n",
            "100% 1/1 [00:00<00:00, 109.15it/s]\n",
            "100% 1/1 [00:00<00:00, 333.68it/s]\n",
            "SIFID:  4.1839666\n"
          ]
        }
      ],
      "source": [
        "!python SinGAN/SIFID/sifid_score.py --path2real real --path2fake fake "
      ]
    },
    {
      "attachments": {},
      "cell_type": "markdown",
      "metadata": {
        "id": "eAshtqEhzXio"
      },
      "source": [
        "SIFID on Places 50\n",
        "\n",
        "Our Result: **4.184**\n",
        "\n",
        "Original Result for stdev=0.75: **0.071**\n",
        "\n",
        "The result is very bad because of VRAM issues leading to small patch size. Once we solve this we will be able to get better generations"
      ]
    },
    {
      "attachments": {},
      "cell_type": "markdown",
      "metadata": {
        "id": "uQ9PQW1qYnRD"
      },
      "source": [
        "# Qualitative Results"
      ]
    },
    {
      "cell_type": "code",
      "execution_count": null,
      "metadata": {
        "id": "uApiPRJXW1wA"
      },
      "outputs": [],
      "source": [
        "# The generations below are outputs of the model at every step of the generation \n",
        "# pyramid at increasing resolutions"
      ]
    },
    {
      "cell_type": "code",
      "execution_count": null,
      "metadata": {
        "id": "69wbpbQnfsem"
      },
      "outputs": [],
      "source": [
        "# All qualitative goal generations are below"
      ]
    },
    {
      "cell_type": "code",
      "execution_count": 34,
      "metadata": {
        "colab": {
          "base_uri": "https://localhost:8080/",
          "height": 488
        },
        "id": "2Q-s_9h462HI",
        "outputId": "f4bc065c-e94d-40c6-8980-263817ff6ee2"
      },
      "outputs": [
        {
          "data": {
            "image/png": "[encoded data removed]",
            "text/plain": [
              "<PIL.Image.Image image mode=RGB size=12x8 at 0x7F8344E1D930>"
            ]
          },
          "metadata": {},
          "output_type": "display_data"
        },
        {
          "data": {
            "image/png": "[encoded data removed]",
            "text/plain": [
              "<PIL.Image.Image image mode=RGB size=13x9 at 0x7F8344707400>"
            ]
          },
          "metadata": {},
          "output_type": "display_data"
        },
        {
          "data": {
            "image/png": "[encoded data removed]",
            "text/plain": [
              "<PIL.Image.Image image mode=RGB size=15x10 at 0x7F8344707400>"
            ]
          },
          "metadata": {},
          "output_type": "display_data"
        },
        {
          "data": {
            "image/png": "[encoded data removed]",
            "text/plain": [
              "<PIL.Image.Image image mode=RGB size=17x11 at 0x7F8344706EF0>"
            ]
          },
          "metadata": {},
          "output_type": "display_data"
        },
        {
          "data": {
            "image/png": "[encoded data removed]",
            "text/plain": [
              "<PIL.Image.Image image mode=RGB size=20x13 at 0x7F8344706EF0>"
            ]
          },
          "metadata": {},
          "output_type": "display_data"
        },
        {
          "data": {
            "image/png": "[encoded data removed]",
            "text/plain": [
              "<PIL.Image.Image image mode=RGB size=25x16 at 0x7F8344706EF0>"
            ]
          },
          "metadata": {},
          "output_type": "display_data"
        },
        {
          "data": {
            "image/png": "[encoded data removed]",
            "text/plain": [
              "<PIL.Image.Image image mode=RGB size=31x20 at 0x7F8344706EF0>"
            ]
          },
          "metadata": {},
          "output_type": "display_data"
        },
        {
          "ename": "KeyboardInterrupt",
          "evalue": "ignored",
          "output_type": "error",
          "traceback": [
            "\u001b[0;31m---------------------------------------------------------------------------\u001b[0m",
            "\u001b[0;31mKeyboardInterrupt\u001b[0m                         Traceback (most recent call last)",
            "\u001b[0;32m<ipython-input-34-a9c897209b9a>\u001b[0m in \u001b[0;36m<cell line: 7>\u001b[0;34m()\u001b[0m\n\u001b[1;32m      5\u001b[0m \u001b[0mC\u001b[0m \u001b[0;34m=\u001b[0m \u001b[0mlen\u001b[0m\u001b[0;34m(\u001b[0m\u001b[0mimage\u001b[0m\u001b[0;34m.\u001b[0m\u001b[0mgetbands\u001b[0m\u001b[0;34m(\u001b[0m\u001b[0;34m)\u001b[0m\u001b[0;34m)\u001b[0m\u001b[0;34m\u001b[0m\u001b[0;34m\u001b[0m\u001b[0m\n\u001b[1;32m      6\u001b[0m \u001b[0;34m\u001b[0m\u001b[0m\n\u001b[0;32m----> 7\u001b[0;31m \u001b[0mgenerated\u001b[0m \u001b[0;34m=\u001b[0m \u001b[0mgpnn\u001b[0m\u001b[0;34m(\u001b[0m\u001b[0mimage\u001b[0m\u001b[0;34m,\u001b[0m \u001b[0mN\u001b[0m\u001b[0;34m,\u001b[0m \u001b[0mT\u001b[0m\u001b[0;34m,\u001b[0m \u001b[0mR\u001b[0m\u001b[0;34m,\u001b[0m \u001b[0malpha\u001b[0m\u001b[0;34m,\u001b[0m \u001b[0mP\u001b[0m\u001b[0;34m,\u001b[0m \u001b[0mC\u001b[0m\u001b[0;34m)\u001b[0m\u001b[0;34m\u001b[0m\u001b[0;34m\u001b[0m\u001b[0m\n\u001b[0m\u001b[1;32m      8\u001b[0m \u001b[0mgenerated\u001b[0m\u001b[0;34m.\u001b[0m\u001b[0mshow\u001b[0m\u001b[0;34m(\u001b[0m\u001b[0;34m)\u001b[0m\u001b[0;34m\u001b[0m\u001b[0;34m\u001b[0m\u001b[0m\n",
            "\u001b[0;32m<ipython-input-31-341f616098d3>\u001b[0m in \u001b[0;36mgpnn\u001b[0;34m(image, N, T, R, alpha, P, C)\u001b[0m\n\u001b[1;32m     48\u001b[0m                 \u001b[0mQ\u001b[0m \u001b[0;34m=\u001b[0m \u001b[0mQ\u001b[0m\u001b[0;34m.\u001b[0m\u001b[0mreshape\u001b[0m\u001b[0;34m(\u001b[0m\u001b[0;34m-\u001b[0m\u001b[0;36m1\u001b[0m\u001b[0;34m,\u001b[0m \u001b[0mP\u001b[0m\u001b[0;34m,\u001b[0m \u001b[0mP\u001b[0m\u001b[0;34m,\u001b[0m \u001b[0mC\u001b[0m\u001b[0;34m)\u001b[0m\u001b[0;34m\u001b[0m\u001b[0;34m\u001b[0m\u001b[0m\n\u001b[1;32m     49\u001b[0m \u001b[0;34m\u001b[0m\u001b[0m\n\u001b[0;32m---> 50\u001b[0;31m                 \u001b[0mgenerated\u001b[0m \u001b[0;34m=\u001b[0m \u001b[0mpnn\u001b[0m\u001b[0;34m(\u001b[0m\u001b[0msmaller_image_arrs\u001b[0m\u001b[0;34m[\u001b[0m\u001b[0;34m-\u001b[0m\u001b[0;36m1\u001b[0m \u001b[0;34m*\u001b[0m \u001b[0;34m(\u001b[0m\u001b[0;36m1\u001b[0m \u001b[0;34m+\u001b[0m \u001b[0mn\u001b[0m\u001b[0;34m)\u001b[0m\u001b[0;34m]\u001b[0m\u001b[0;34m,\u001b[0m \u001b[0mQ\u001b[0m\u001b[0;34m,\u001b[0m \u001b[0mK\u001b[0m\u001b[0;34m,\u001b[0m \u001b[0mV\u001b[0m\u001b[0;34m,\u001b[0m \u001b[0mV_shape\u001b[0m\u001b[0;34m,\u001b[0m \u001b[0malpha\u001b[0m\u001b[0;34m,\u001b[0m \u001b[0mP\u001b[0m\u001b[0;34m,\u001b[0m \u001b[0mC\u001b[0m\u001b[0;34m)\u001b[0m\u001b[0;34m\u001b[0m\u001b[0;34m\u001b[0m\u001b[0m\n\u001b[0m\u001b[1;32m     51\u001b[0m \u001b[0;34m\u001b[0m\u001b[0m\n\u001b[1;32m     52\u001b[0m         \u001b[0mImage\u001b[0m\u001b[0;34m.\u001b[0m\u001b[0mfromarray\u001b[0m\u001b[0;34m(\u001b[0m\u001b[0mgenerated\u001b[0m\u001b[0;34m.\u001b[0m\u001b[0mastype\u001b[0m\u001b[0;34m(\u001b[0m\u001b[0mnp\u001b[0m\u001b[0;34m.\u001b[0m\u001b[0muint8\u001b[0m\u001b[0;34m)\u001b[0m\u001b[0;34m)\u001b[0m\u001b[0;34m.\u001b[0m\u001b[0mshow\u001b[0m\u001b[0;34m(\u001b[0m\u001b[0;34m)\u001b[0m \u001b[0;31m# Enable this to show pyramid generations\u001b[0m\u001b[0;34m\u001b[0m\u001b[0;34m\u001b[0m\u001b[0m\n",
            "\u001b[0;32m<ipython-input-27-4762e161e8f2>\u001b[0m in \u001b[0;36mpnn\u001b[0;34m(image, Q, K, V, V_shape, alpha, P, C)\u001b[0m\n\u001b[1;32m      9\u001b[0m \u001b[0;34m\u001b[0m\u001b[0m\n\u001b[1;32m     10\u001b[0m     \u001b[0;31m#distances = compute_distance_between_images_pytorch(Q, K, alpha) # Speed & resolution, GPU\u001b[0m\u001b[0;34m\u001b[0m\u001b[0;34m\u001b[0m\u001b[0m\n\u001b[0;32m---> 11\u001b[0;31m     \u001b[0mdistances\u001b[0m \u001b[0;34m=\u001b[0m \u001b[0mcompute_distance_between_images\u001b[0m\u001b[0;34m(\u001b[0m\u001b[0mQ\u001b[0m\u001b[0;34m,\u001b[0m \u001b[0mK\u001b[0m\u001b[0;34m,\u001b[0m \u001b[0malpha\u001b[0m\u001b[0;34m)\u001b[0m \u001b[0;31m# Quality, CPU\u001b[0m\u001b[0;34m\u001b[0m\u001b[0;34m\u001b[0m\u001b[0m\n\u001b[0m\u001b[1;32m     12\u001b[0m \u001b[0;34m\u001b[0m\u001b[0m\n\u001b[1;32m     13\u001b[0m     \u001b[0mnearest_neighbors\u001b[0m \u001b[0;34m=\u001b[0m \u001b[0mnp\u001b[0m\u001b[0;34m.\u001b[0m\u001b[0margmin\u001b[0m\u001b[0;34m(\u001b[0m\u001b[0mdistances\u001b[0m\u001b[0;34m,\u001b[0m \u001b[0maxis\u001b[0m\u001b[0;34m=\u001b[0m\u001b[0;36m1\u001b[0m\u001b[0;34m)\u001b[0m\u001b[0;34m\u001b[0m\u001b[0;34m\u001b[0m\u001b[0m\n",
            "\u001b[0;32m<ipython-input-3-9fbf4ea4ee0e>\u001b[0m in \u001b[0;36mcompute_distance_between_images\u001b[0;34m(list1, list2, alpha)\u001b[0m\n\u001b[1;32m      9\u001b[0m     \u001b[0;32mfor\u001b[0m \u001b[0mi\u001b[0m \u001b[0;32min\u001b[0m \u001b[0mrange\u001b[0m\u001b[0;34m(\u001b[0m\u001b[0mnum_images1\u001b[0m\u001b[0;34m)\u001b[0m\u001b[0;34m:\u001b[0m\u001b[0;34m\u001b[0m\u001b[0;34m\u001b[0m\u001b[0m\n\u001b[1;32m     10\u001b[0m         \u001b[0;32mfor\u001b[0m \u001b[0mj\u001b[0m \u001b[0;32min\u001b[0m \u001b[0mrange\u001b[0m\u001b[0;34m(\u001b[0m\u001b[0mnum_images2\u001b[0m\u001b[0;34m)\u001b[0m\u001b[0;34m:\u001b[0m\u001b[0;34m\u001b[0m\u001b[0;34m\u001b[0m\u001b[0m\n\u001b[0;32m---> 11\u001b[0;31m             \u001b[0mmse\u001b[0m \u001b[0;34m=\u001b[0m \u001b[0mnp\u001b[0m\u001b[0;34m.\u001b[0m\u001b[0mmean\u001b[0m\u001b[0;34m(\u001b[0m\u001b[0;34m(\u001b[0m\u001b[0mlist1\u001b[0m\u001b[0;34m[\u001b[0m\u001b[0mi\u001b[0m\u001b[0;34m]\u001b[0m \u001b[0;34m-\u001b[0m \u001b[0mlist2\u001b[0m\u001b[0;34m[\u001b[0m\u001b[0mj\u001b[0m\u001b[0;34m]\u001b[0m\u001b[0;34m)\u001b[0m \u001b[0;34m**\u001b[0m \u001b[0;36m2\u001b[0m\u001b[0;34m)\u001b[0m\u001b[0;34m\u001b[0m\u001b[0;34m\u001b[0m\u001b[0m\n\u001b[0m\u001b[1;32m     12\u001b[0m             \u001b[0mmse_values\u001b[0m\u001b[0;34m[\u001b[0m\u001b[0mi\u001b[0m\u001b[0;34m,\u001b[0m \u001b[0mj\u001b[0m\u001b[0;34m]\u001b[0m \u001b[0;34m=\u001b[0m \u001b[0mmse\u001b[0m\u001b[0;34m\u001b[0m\u001b[0;34m\u001b[0m\u001b[0m\n\u001b[1;32m     13\u001b[0m \u001b[0;34m\u001b[0m\u001b[0m\n",
            "\u001b[0;32m/usr/local/lib/python3.10/dist-packages/numpy/core/overrides.py\u001b[0m in \u001b[0;36mmean\u001b[0;34m(*args, **kwargs)\u001b[0m\n",
            "\u001b[0;32m/usr/local/lib/python3.10/dist-packages/numpy/core/fromnumeric.py\u001b[0m in \u001b[0;36mmean\u001b[0;34m(a, axis, dtype, out, keepdims, where)\u001b[0m\n\u001b[1;32m   3472\u001b[0m             \u001b[0;32mreturn\u001b[0m \u001b[0mmean\u001b[0m\u001b[0;34m(\u001b[0m\u001b[0maxis\u001b[0m\u001b[0;34m=\u001b[0m\u001b[0maxis\u001b[0m\u001b[0;34m,\u001b[0m \u001b[0mdtype\u001b[0m\u001b[0;34m=\u001b[0m\u001b[0mdtype\u001b[0m\u001b[0;34m,\u001b[0m \u001b[0mout\u001b[0m\u001b[0;34m=\u001b[0m\u001b[0mout\u001b[0m\u001b[0;34m,\u001b[0m \u001b[0;34m**\u001b[0m\u001b[0mkwargs\u001b[0m\u001b[0;34m)\u001b[0m\u001b[0;34m\u001b[0m\u001b[0;34m\u001b[0m\u001b[0m\n\u001b[1;32m   3473\u001b[0m \u001b[0;34m\u001b[0m\u001b[0m\n\u001b[0;32m-> 3474\u001b[0;31m     return _methods._mean(a, axis=axis, dtype=dtype,\n\u001b[0m\u001b[1;32m   3475\u001b[0m                           out=out, **kwargs)\n\u001b[1;32m   3476\u001b[0m \u001b[0;34m\u001b[0m\u001b[0m\n",
            "\u001b[0;32m/usr/local/lib/python3.10/dist-packages/numpy/core/_methods.py\u001b[0m in \u001b[0;36m_mean\u001b[0;34m(a, axis, dtype, out, keepdims, where)\u001b[0m\n\u001b[1;32m    172\u001b[0m     \u001b[0;32mif\u001b[0m \u001b[0mdtype\u001b[0m \u001b[0;32mis\u001b[0m \u001b[0;32mNone\u001b[0m\u001b[0;34m:\u001b[0m\u001b[0;34m\u001b[0m\u001b[0;34m\u001b[0m\u001b[0m\n\u001b[1;32m    173\u001b[0m         \u001b[0;32mif\u001b[0m \u001b[0missubclass\u001b[0m\u001b[0;34m(\u001b[0m\u001b[0marr\u001b[0m\u001b[0;34m.\u001b[0m\u001b[0mdtype\u001b[0m\u001b[0;34m.\u001b[0m\u001b[0mtype\u001b[0m\u001b[0;34m,\u001b[0m \u001b[0;34m(\u001b[0m\u001b[0mnt\u001b[0m\u001b[0;34m.\u001b[0m\u001b[0minteger\u001b[0m\u001b[0;34m,\u001b[0m \u001b[0mnt\u001b[0m\u001b[0;34m.\u001b[0m\u001b[0mbool_\u001b[0m\u001b[0;34m)\u001b[0m\u001b[0;34m)\u001b[0m\u001b[0;34m:\u001b[0m\u001b[0;34m\u001b[0m\u001b[0;34m\u001b[0m\u001b[0m\n\u001b[0;32m--> 174\u001b[0;31m             \u001b[0mdtype\u001b[0m \u001b[0;34m=\u001b[0m \u001b[0mmu\u001b[0m\u001b[0;34m.\u001b[0m\u001b[0mdtype\u001b[0m\u001b[0;34m(\u001b[0m\u001b[0;34m'f8'\u001b[0m\u001b[0;34m)\u001b[0m\u001b[0;34m\u001b[0m\u001b[0;34m\u001b[0m\u001b[0m\n\u001b[0m\u001b[1;32m    175\u001b[0m         \u001b[0;32melif\u001b[0m \u001b[0missubclass\u001b[0m\u001b[0;34m(\u001b[0m\u001b[0marr\u001b[0m\u001b[0;34m.\u001b[0m\u001b[0mdtype\u001b[0m\u001b[0;34m.\u001b[0m\u001b[0mtype\u001b[0m\u001b[0;34m,\u001b[0m \u001b[0mnt\u001b[0m\u001b[0;34m.\u001b[0m\u001b[0mfloat16\u001b[0m\u001b[0;34m)\u001b[0m\u001b[0;34m:\u001b[0m\u001b[0;34m\u001b[0m\u001b[0;34m\u001b[0m\u001b[0m\n\u001b[1;32m    176\u001b[0m             \u001b[0mdtype\u001b[0m \u001b[0;34m=\u001b[0m \u001b[0mmu\u001b[0m\u001b[0;34m.\u001b[0m\u001b[0mdtype\u001b[0m\u001b[0;34m(\u001b[0m\u001b[0;34m'f4'\u001b[0m\u001b[0;34m)\u001b[0m\u001b[0;34m\u001b[0m\u001b[0;34m\u001b[0m\u001b[0m\n",
            "\u001b[0;31mKeyboardInterrupt\u001b[0m: "
          ]
        }
      ],
      "source": [
        "# The generations below are made using the CPU using P=8 so the generated image \n",
        "# makes sense however the resolution is very low because it is slow\n",
        "\n",
        "image = Image.open('people_on_the_beach.jpg')\n",
        "C = len(image.getbands())\n",
        "\n",
        "generated = gpnn(image, N, T, R, alpha, P, C)\n",
        "generated.show()"
      ]
    },
    {
      "cell_type": "code",
      "execution_count": null,
      "metadata": {
        "colab": {
          "base_uri": "https://localhost:8080/",
          "height": 375
        },
        "id": "hGD7CU6aWh4v",
        "outputId": "e85a2c23-aaa7-4ecb-db73-8d69f12ae829"
      },
      "outputs": [
        {
          "data": {
            "image/png": "[encoded data removed]",
            "text/plain": [
              "<PIL.Image.Image image mode=RGB size=12x8 at 0x7F15514EEA70>"
            ]
          },
          "metadata": {},
          "output_type": "display_data"
        },
        {
          "data": {
            "image/png": "[encoded data removed]",
            "text/plain": [
              "<PIL.Image.Image image mode=RGB size=13x9 at 0x7F15514EF490>"
            ]
          },
          "metadata": {},
          "output_type": "display_data"
        },
        {
          "data": {
            "image/png": "[encoded data removed]",
            "text/plain": [
              "<PIL.Image.Image image mode=RGB size=15x10 at 0x7F15514EF430>"
            ]
          },
          "metadata": {},
          "output_type": "display_data"
        },
        {
          "data": {
            "image/png": "[encoded data removed]",
            "text/plain": [
              "<PIL.Image.Image image mode=RGB size=17x11 at 0x7F15514ECC70>"
            ]
          },
          "metadata": {},
          "output_type": "display_data"
        },
        {
          "data": {
            "image/png": "[encoded data removed]",
            "text/plain": [
              "<PIL.Image.Image image mode=RGB size=20x13 at 0x7F15514ED600>"
            ]
          },
          "metadata": {},
          "output_type": "display_data"
        },
        {
          "data": {
            "image/png": "[encoded data removed]",
            "text/plain": [
              "<PIL.Image.Image image mode=RGB size=25x16 at 0x7F15514EDF00>"
            ]
          },
          "metadata": {},
          "output_type": "display_data"
        },
        {
          "data": {
            "image/png": "[encoded data removed]",
            "text/plain": [
              "<PIL.Image.Image image mode=RGB size=31x20 at 0x7F15514EEA70>"
            ]
          },
          "metadata": {},
          "output_type": "display_data"
        },
        {
          "data": {
            "image/png": "[encoded data removed]",
            "text/plain": [
              "<PIL.Image.Image image mode=RGB size=41x27 at 0x7F15514ECB80>"
            ]
          },
          "metadata": {},
          "output_type": "display_data"
        },
        {
          "data": {
            "image/png": "[encoded data removed]",
            "text/plain": [
              "<PIL.Image.Image image mode=RGB size=62x41 at 0x7F15514EDDB0>"
            ]
          },
          "metadata": {},
          "output_type": "display_data"
        },
        {
          "data": {
            "image/png": "[encoded data removed]",
            "text/plain": [
              "<PIL.Image.Image image mode=RGB size=125x83 at 0x7F15514EDA20>"
            ]
          },
          "metadata": {},
          "output_type": "display_data"
        },
        {
          "data": {
            "image/png": "[encoded data removed]",
            "text/plain": [
              "<PIL.Image.Image image mode=RGB size=125x83 at 0x7F15514EEA70>"
            ]
          },
          "metadata": {},
          "output_type": "display_data"
        }
      ],
      "source": [
        "# The generations below are made using the CPU using P=3 so the generated image \n",
        "# makes less sense however the resolution is higher\n",
        "\n",
        "image = Image.open('people_on_the_beach.jpg')\n",
        "C = len(image.getbands())\n",
        "\n",
        "generated = gpnn(image, N, T, R, alpha, P, C)\n",
        "generated.show()"
      ]
    },
    {
      "cell_type": "code",
      "execution_count": null,
      "metadata": {
        "colab": {
          "base_uri": "https://localhost:8080/",
          "height": 186
        },
        "id": "6eBmQxa2ZuLc",
        "outputId": "4a92e801-db4c-4dac-8ac6-6ad76a864414"
      },
      "outputs": [
        {
          "data": {
            "image/png": "[encoded data removed]",
            "text/plain": [
              "<PIL.Image.Image image mode=RGB size=9x9 at 0x7F15514ECCD0>"
            ]
          },
          "metadata": {},
          "output_type": "display_data"
        },
        {
          "data": {
            "image/png": "[encoded data removed]",
            "text/plain": [
              "<PIL.Image.Image image mode=RGB size=11x11 at 0x7F15514ECD00>"
            ]
          },
          "metadata": {},
          "output_type": "display_data"
        },
        {
          "data": {
            "image/png": "[encoded data removed]",
            "text/plain": [
              "<PIL.Image.Image image mode=RGB size=15x15 at 0x7F15514EF3D0>"
            ]
          },
          "metadata": {},
          "output_type": "display_data"
        },
        {
          "data": {
            "image/png": "[encoded data removed]",
            "text/plain": [
              "<PIL.Image.Image image mode=RGB size=23x23 at 0x7F15514EC3A0>"
            ]
          },
          "metadata": {},
          "output_type": "display_data"
        },
        {
          "data": {
            "image/png": "[encoded data removed]",
            "text/plain": [
              "<PIL.Image.Image image mode=RGB size=47x47 at 0x7F15514EF3D0>"
            ]
          },
          "metadata": {},
          "output_type": "display_data"
        },
        {
          "data": {
            "image/png": "[encoded data removed]",
            "text/plain": [
              "<PIL.Image.Image image mode=RGB size=47x47 at 0x7F15514EC460>"
            ]
          },
          "metadata": {},
          "output_type": "display_data"
        }
      ],
      "source": [
        "image = Image.open('6_1.jpg')\n",
        "C = len(image.getbands())\n",
        "\n",
        "N = 5\n",
        "\n",
        "generated = gpnn(image, N, T, R, alpha, P, C)\n",
        "generated.show()"
      ]
    },
    {
      "cell_type": "code",
      "execution_count": null,
      "metadata": {
        "colab": {
          "base_uri": "https://localhost:8080/",
          "height": 219
        },
        "id": "qb5a27V2aMMQ",
        "outputId": "469fc783-418d-4390-d8f0-dd090ce222b9"
      },
      "outputs": [
        {
          "data": {
            "image/png": "[encoded data removed]",
            "text/plain": [
              "<PIL.Image.Image image mode=RGB size=12x6 at 0x7F15514EC3D0>"
            ]
          },
          "metadata": {},
          "output_type": "display_data"
        },
        {
          "data": {
            "image/png": "[encoded data removed]",
            "text/plain": [
              "<PIL.Image.Image image mode=RGB size=14x7 at 0x7F15514EE200>"
            ]
          },
          "metadata": {},
          "output_type": "display_data"
        },
        {
          "data": {
            "image/png": "[encoded data removed]",
            "text/plain": [
              "<PIL.Image.Image image mode=RGB size=16x9 at 0x7F15514EE200>"
            ]
          },
          "metadata": {},
          "output_type": "display_data"
        },
        {
          "data": {
            "image/png": "[encoded data removed]",
            "text/plain": [
              "<PIL.Image.Image image mode=RGB size=21x11 at 0x7F15514EC640>"
            ]
          },
          "metadata": {},
          "output_type": "display_data"
        },
        {
          "data": {
            "image/png": "[encoded data removed]",
            "text/plain": [
              "<PIL.Image.Image image mode=RGB size=28x15 at 0x7F15514ED750>"
            ]
          },
          "metadata": {},
          "output_type": "display_data"
        },
        {
          "data": {
            "image/png": "[encoded data removed]",
            "text/plain": [
              "<PIL.Image.Image image mode=RGB size=42x23 at 0x7F15514EC5E0>"
            ]
          },
          "metadata": {},
          "output_type": "display_data"
        },
        {
          "data": {
            "image/png": "[encoded data removed]",
            "text/plain": [
              "<PIL.Image.Image image mode=RGB size=84x46 at 0x7F15514EC5E0>"
            ]
          },
          "metadata": {},
          "output_type": "display_data"
        },
        {
          "data": {
            "image/png": "[encoded data removed]",
            "text/plain": [
              "<PIL.Image.Image image mode=RGB size=84x46 at 0x7F15514EC040>"
            ]
          },
          "metadata": {},
          "output_type": "display_data"
        }
      ],
      "source": [
        "image = Image.open('6_2.jpg')\n",
        "C = len(image.getbands())\n",
        "\n",
        "N = 7\n",
        "\n",
        "generated = gpnn(image, N, T, R, alpha, P, C)\n",
        "generated.show()"
      ]
    },
    {
      "cell_type": "code",
      "execution_count": null,
      "metadata": {
        "colab": {
          "base_uri": "https://localhost:8080/",
          "height": 221
        },
        "id": "y8QRDN5EcPfB",
        "outputId": "c7a1c87f-226c-402f-ed56-4ee5cd7aa471"
      },
      "outputs": [
        {
          "data": {
            "image/png": "[encoded data removed]",
            "text/plain": [
              "<PIL.Image.Image image mode=RGB size=10x6 at 0x7F15514EC940>"
            ]
          },
          "metadata": {},
          "output_type": "display_data"
        },
        {
          "data": {
            "image/png": "[encoded data removed]",
            "text/plain": [
              "<PIL.Image.Image image mode=RGB size=12x7 at 0x7F15514EE440>"
            ]
          },
          "metadata": {},
          "output_type": "display_data"
        },
        {
          "data": {
            "image/png": "[encoded data removed]",
            "text/plain": [
              "<PIL.Image.Image image mode=RGB size=14x9 at 0x7F15514EE440>"
            ]
          },
          "metadata": {},
          "output_type": "display_data"
        },
        {
          "data": {
            "image/png": "[encoded data removed]",
            "text/plain": [
              "<PIL.Image.Image image mode=RGB size=18x11 at 0x7F15514EE4D0>"
            ]
          },
          "metadata": {},
          "output_type": "display_data"
        },
        {
          "data": {
            "image/png": "[encoded data removed]",
            "text/plain": [
              "<PIL.Image.Image image mode=RGB size=24x15 at 0x7F15514EE4D0>"
            ]
          },
          "metadata": {},
          "output_type": "display_data"
        },
        {
          "data": {
            "image/png": "[encoded data removed]",
            "text/plain": [
              "<PIL.Image.Image image mode=RGB size=36x23 at 0x7F15500AA050>"
            ]
          },
          "metadata": {},
          "output_type": "display_data"
        },
        {
          "data": {
            "image/png": "[encoded data removed]",
            "text/plain": [
              "<PIL.Image.Image image mode=RGB size=72x47 at 0x7F15500AA440>"
            ]
          },
          "metadata": {},
          "output_type": "display_data"
        },
        {
          "data": {
            "image/png": "[encoded data removed]",
            "text/plain": [
              "<PIL.Image.Image image mode=RGB size=72x47 at 0x7F1550DD6800>"
            ]
          },
          "metadata": {},
          "output_type": "display_data"
        }
      ],
      "source": [
        "image = Image.open('5_1.jpg')\n",
        "C = len(image.getbands())\n",
        "\n",
        "N = 7\n",
        "\n",
        "generated = gpnn(image, N, T, R, alpha, P, C)\n",
        "generated.show()"
      ]
    },
    {
      "cell_type": "code",
      "execution_count": null,
      "metadata": {
        "colab": {
          "base_uri": "https://localhost:8080/",
          "height": 224
        },
        "id": "-TTW4l04cbM7",
        "outputId": "9f7df5a6-6724-4276-d314-06dae53633ca"
      },
      "outputs": [
        {
          "data": {
            "image/png": "[encoded data removed]",
            "text/plain": [
              "<PIL.Image.Image image mode=RGB size=10x6 at 0x7F15514B1FF0>"
            ]
          },
          "metadata": {},
          "output_type": "display_data"
        },
        {
          "data": {
            "image/png": "[encoded data removed]",
            "text/plain": [
              "<PIL.Image.Image image mode=RGB size=11x8 at 0x7F15500A9D20>"
            ]
          },
          "metadata": {},
          "output_type": "display_data"
        },
        {
          "data": {
            "image/png": "[encoded data removed]",
            "text/plain": [
              "<PIL.Image.Image image mode=RGB size=14x9 at 0x7F15500A9D20>"
            ]
          },
          "metadata": {},
          "output_type": "display_data"
        },
        {
          "data": {
            "image/png": "[encoded data removed]",
            "text/plain": [
              "<PIL.Image.Image image mode=RGB size=17x12 at 0x7F15500A9D20>"
            ]
          },
          "metadata": {},
          "output_type": "display_data"
        },
        {
          "data": {
            "image/png": "[encoded data removed]",
            "text/plain": [
              "<PIL.Image.Image image mode=RGB size=23x16 at 0x7F15500A9D20>"
            ]
          },
          "metadata": {},
          "output_type": "display_data"
        },
        {
          "data": {
            "image/png": "[encoded data removed]",
            "text/plain": [
              "<PIL.Image.Image image mode=RGB size=35x24 at 0x7F1550063DF0>"
            ]
          },
          "metadata": {},
          "output_type": "display_data"
        },
        {
          "data": {
            "image/png": "[encoded data removed]",
            "text/plain": [
              "<PIL.Image.Image image mode=RGB size=71x48 at 0x7F15500A9D20>"
            ]
          },
          "metadata": {},
          "output_type": "display_data"
        },
        {
          "data": {
            "image/png": "[encoded data removed]",
            "text/plain": [
              "<PIL.Image.Image image mode=RGB size=71x48 at 0x7F15500AA6E0>"
            ]
          },
          "metadata": {},
          "output_type": "display_data"
        }
      ],
      "source": [
        "image = Image.open('5_2.jpg')\n",
        "C = len(image.getbands())\n",
        "\n",
        "N = 7\n",
        "\n",
        "generated = gpnn(image, N, T, R, alpha, P, C)\n",
        "generated.show()"
      ]
    },
    {
      "cell_type": "code",
      "execution_count": null,
      "metadata": {
        "colab": {
          "base_uri": "https://localhost:8080/",
          "height": 224
        },
        "id": "wkb2c9rIciPa",
        "outputId": "aceb473c-ece7-4a98-ce37-ff8becc3309f"
      },
      "outputs": [
        {
          "data": {
            "image/png": "[encoded data removed]",
            "text/plain": [
              "<PIL.Image.Image image mode=RGB size=9x6 at 0x7F15514ECCD0>"
            ]
          },
          "metadata": {},
          "output_type": "display_data"
        },
        {
          "data": {
            "image/png": "[encoded data removed]",
            "text/plain": [
              "<PIL.Image.Image image mode=RGB size=10x8 at 0x7F15514EDA50>"
            ]
          },
          "metadata": {},
          "output_type": "display_data"
        },
        {
          "data": {
            "image/png": "[encoded data removed]",
            "text/plain": [
              "<PIL.Image.Image image mode=RGB size=12x9 at 0x7F15514EDA50>"
            ]
          },
          "metadata": {},
          "output_type": "display_data"
        },
        {
          "data": {
            "image/png": "[encoded data removed]",
            "text/plain": [
              "<PIL.Image.Image image mode=RGB size=16x12 at 0x7F15514EDA50>"
            ]
          },
          "metadata": {},
          "output_type": "display_data"
        },
        {
          "data": {
            "image/png": "[encoded data removed]",
            "text/plain": [
              "<PIL.Image.Image image mode=RGB size=21x16 at 0x7F15514EDA50>"
            ]
          },
          "metadata": {},
          "output_type": "display_data"
        },
        {
          "data": {
            "image/png": "[encoded data removed]",
            "text/plain": [
              "<PIL.Image.Image image mode=RGB size=32x24 at 0x7F15514E6BF0>"
            ]
          },
          "metadata": {},
          "output_type": "display_data"
        },
        {
          "data": {
            "image/png": "[encoded data removed]",
            "text/plain": [
              "<PIL.Image.Image image mode=RGB size=64x48 at 0x7F1490369B10>"
            ]
          },
          "metadata": {},
          "output_type": "display_data"
        },
        {
          "data": {
            "image/png": "[encoded data removed]",
            "text/plain": [
              "<PIL.Image.Image image mode=RGB size=64x48 at 0x7F15514ED960>"
            ]
          },
          "metadata": {},
          "output_type": "display_data"
        }
      ],
      "source": [
        "image = Image.open('5_3.jpg')\n",
        "C = len(image.getbands())\n",
        "\n",
        "N = 7\n",
        "\n",
        "generated = gpnn(image, N, T, R, alpha, P, C)\n",
        "generated.show()"
      ]
    },
    {
      "cell_type": "code",
      "execution_count": null,
      "metadata": {
        "colab": {
          "base_uri": "https://localhost:8080/",
          "height": 241
        },
        "id": "21VOogY2crVN",
        "outputId": "21a41306-9d24-48fc-c13a-47bb4ac78560"
      },
      "outputs": [
        {
          "data": {
            "image/png": "[encoded data removed]",
            "text/plain": [
              "<PIL.Image.Image image mode=RGB size=9x6 at 0x7F15514EC310>"
            ]
          },
          "metadata": {},
          "output_type": "display_data"
        },
        {
          "data": {
            "image/png": "[encoded data removed]",
            "text/plain": [
              "<PIL.Image.Image image mode=RGB size=10x6 at 0x7F15514EC040>"
            ]
          },
          "metadata": {},
          "output_type": "display_data"
        },
        {
          "data": {
            "image/png": "[encoded data removed]",
            "text/plain": [
              "<PIL.Image.Image image mode=RGB size=12x8 at 0x7F15514EF2B0>"
            ]
          },
          "metadata": {},
          "output_type": "display_data"
        },
        {
          "data": {
            "image/png": "[encoded data removed]",
            "text/plain": [
              "<PIL.Image.Image image mode=RGB size=14x9 at 0x7F15514EC040>"
            ]
          },
          "metadata": {},
          "output_type": "display_data"
        },
        {
          "data": {
            "image/png": "[encoded data removed]",
            "text/plain": [
              "<PIL.Image.Image image mode=RGB size=18x12 at 0x7F15514EC040>"
            ]
          },
          "metadata": {},
          "output_type": "display_data"
        },
        {
          "data": {
            "image/png": "[encoded data removed]",
            "text/plain": [
              "<PIL.Image.Image image mode=RGB size=24x16 at 0x7F15514EF2B0>"
            ]
          },
          "metadata": {},
          "output_type": "display_data"
        },
        {
          "data": {
            "image/png": "[encoded data removed]",
            "text/plain": [
              "<PIL.Image.Image image mode=RGB size=36x24 at 0x7F15514E6BC0>"
            ]
          },
          "metadata": {},
          "output_type": "display_data"
        },
        {
          "data": {
            "image/png": "[encoded data removed]",
            "text/plain": [
              "<PIL.Image.Image image mode=RGB size=72x48 at 0x7F15514EC040>"
            ]
          },
          "metadata": {},
          "output_type": "display_data"
        },
        {
          "data": {
            "image/png": "[encoded data removed]",
            "text/plain": [
              "<PIL.Image.Image image mode=RGB size=72x48 at 0x7F15514ECB80>"
            ]
          },
          "metadata": {},
          "output_type": "display_data"
        }
      ],
      "source": [
        "image = Image.open('5_4.jpg')\n",
        "C = len(image.getbands())\n",
        "\n",
        "N = 8\n",
        "\n",
        "generated = gpnn(image, N, T, R, alpha, P, C)\n",
        "generated.show()"
      ]
    },
    {
      "cell_type": "code",
      "execution_count": null,
      "metadata": {
        "colab": {
          "base_uri": "https://localhost:8080/",
          "height": 224
        },
        "id": "ali9T73WcwvB",
        "outputId": "d86bd816-ae6b-4902-fd8c-00809371fd50"
      },
      "outputs": [
        {
          "data": {
            "image/png": "[encoded data removed]",
            "text/plain": [
              "<PIL.Image.Image image mode=RGB size=9x6 at 0x7F15514ECB80>"
            ]
          },
          "metadata": {},
          "output_type": "display_data"
        },
        {
          "data": {
            "image/png": "[encoded data removed]",
            "text/plain": [
              "<PIL.Image.Image image mode=RGB size=10x8 at 0x7F15514ECAC0>"
            ]
          },
          "metadata": {},
          "output_type": "display_data"
        },
        {
          "data": {
            "image/png": "[encoded data removed]",
            "text/plain": [
              "<PIL.Image.Image image mode=RGB size=12x9 at 0x7F15514ECB80>"
            ]
          },
          "metadata": {},
          "output_type": "display_data"
        },
        {
          "data": {
            "image/png": "[encoded data removed]",
            "text/plain": [
              "<PIL.Image.Image image mode=RGB size=16x12 at 0x7F15514EC040>"
            ]
          },
          "metadata": {},
          "output_type": "display_data"
        },
        {
          "data": {
            "image/png": "[encoded data removed]",
            "text/plain": [
              "<PIL.Image.Image image mode=RGB size=21x16 at 0x7F15514EC040>"
            ]
          },
          "metadata": {},
          "output_type": "display_data"
        },
        {
          "data": {
            "image/png": "[encoded data removed]",
            "text/plain": [
              "<PIL.Image.Image image mode=RGB size=32x24 at 0x7F15514EC040>"
            ]
          },
          "metadata": {},
          "output_type": "display_data"
        },
        {
          "data": {
            "image/png": "[encoded data removed]",
            "text/plain": [
              "<PIL.Image.Image image mode=RGB size=64x48 at 0x7F15514ECB80>"
            ]
          },
          "metadata": {},
          "output_type": "display_data"
        },
        {
          "data": {
            "image/png": "[encoded data removed]",
            "text/plain": [
              "<PIL.Image.Image image mode=RGB size=64x48 at 0x7F15514ECB80>"
            ]
          },
          "metadata": {},
          "output_type": "display_data"
        }
      ],
      "source": [
        "image = Image.open('5_5.jpg')\n",
        "C = len(image.getbands())\n",
        "\n",
        "N = 7\n",
        "\n",
        "generated = gpnn(image, N, T, R, alpha, P, C)\n",
        "generated.show()"
      ]
    },
    {
      "cell_type": "code",
      "execution_count": null,
      "metadata": {
        "colab": {
          "base_uri": "https://localhost:8080/",
          "height": 208
        },
        "id": "fZDfkJC1c3Jk",
        "outputId": "a6e25d38-1b1b-493b-bf59-642f6af0f78d"
      },
      "outputs": [
        {
          "data": {
            "image/png": "[encoded data removed]",
            "text/plain": [
              "<PIL.Image.Image image mode=RGB size=8x8 at 0x7F15514EC100>"
            ]
          },
          "metadata": {},
          "output_type": "display_data"
        },
        {
          "data": {
            "image/png": "[encoded data removed]",
            "text/plain": [
              "<PIL.Image.Image image mode=RGB size=9x9 at 0x7F15514EC100>"
            ]
          },
          "metadata": {},
          "output_type": "display_data"
        },
        {
          "data": {
            "image/png": "[encoded data removed]",
            "text/plain": [
              "<PIL.Image.Image image mode=RGB size=12x12 at 0x7F15514EC610>"
            ]
          },
          "metadata": {},
          "output_type": "display_data"
        },
        {
          "data": {
            "image/png": "[encoded data removed]",
            "text/plain": [
              "<PIL.Image.Image image mode=RGB size=16x16 at 0x7F15514ED600>"
            ]
          },
          "metadata": {},
          "output_type": "display_data"
        },
        {
          "data": {
            "image/png": "[encoded data removed]",
            "text/plain": [
              "<PIL.Image.Image image mode=RGB size=24x24 at 0x7F15514ED600>"
            ]
          },
          "metadata": {},
          "output_type": "display_data"
        },
        {
          "data": {
            "image/png": "[encoded data removed]",
            "text/plain": [
              "<PIL.Image.Image image mode=RGB size=48x49 at 0x7F15514EC610>"
            ]
          },
          "metadata": {},
          "output_type": "display_data"
        },
        {
          "data": {
            "image/png": "[encoded data removed]",
            "text/plain": [
              "<PIL.Image.Image image mode=RGB size=48x49 at 0x7F15514EC250>"
            ]
          },
          "metadata": {},
          "output_type": "display_data"
        }
      ],
      "source": [
        "image = Image.open('5_6.jpg')\n",
        "C = len(image.getbands())\n",
        "\n",
        "N = 6\n",
        "\n",
        "generated = gpnn(image, N, T, R, alpha, P, C)\n",
        "generated.show()"
      ]
    },
    {
      "cell_type": "code",
      "execution_count": null,
      "metadata": {
        "colab": {
          "base_uri": "https://localhost:8080/",
          "height": 304
        },
        "id": "_lekAmkfc-bJ",
        "outputId": "4bbbb464-cd85-41bb-b878-31c99cdf605c"
      },
      "outputs": [
        {
          "data": {
            "image/png": "[encoded data removed]",
            "text/plain": [
              "<PIL.Image.Image image mode=RGB size=8x8 at 0x7F15514ECD00>"
            ]
          },
          "metadata": {},
          "output_type": "display_data"
        },
        {
          "data": {
            "image/png": "[encoded data removed]",
            "text/plain": [
              "<PIL.Image.Image image mode=RGB size=10x10 at 0x7F15514ECB80>"
            ]
          },
          "metadata": {},
          "output_type": "display_data"
        },
        {
          "data": {
            "image/png": "[encoded data removed]",
            "text/plain": [
              "<PIL.Image.Image image mode=RGB size=11x11 at 0x7F15514EE020>"
            ]
          },
          "metadata": {},
          "output_type": "display_data"
        },
        {
          "data": {
            "image/png": "[encoded data removed]",
            "text/plain": [
              "<PIL.Image.Image image mode=RGB size=14x14 at 0x7F15514ECD00>"
            ]
          },
          "metadata": {},
          "output_type": "display_data"
        },
        {
          "data": {
            "image/png": "[encoded data removed]",
            "text/plain": [
              "<PIL.Image.Image image mode=RGB size=17x17 at 0x7F15514ECB80>"
            ]
          },
          "metadata": {},
          "output_type": "display_data"
        },
        {
          "data": {
            "image/png": "[encoded data removed]",
            "text/plain": [
              "<PIL.Image.Image image mode=RGB size=23x23 at 0x7F15514ECD00>"
            ]
          },
          "metadata": {},
          "output_type": "display_data"
        },
        {
          "data": {
            "image/png": "[encoded data removed]",
            "text/plain": [
              "<PIL.Image.Image image mode=RGB size=35x35 at 0x7F15514EEF20>"
            ]
          },
          "metadata": {},
          "output_type": "display_data"
        },
        {
          "data": {
            "image/png": "[encoded data removed]",
            "text/plain": [
              "<PIL.Image.Image image mode=RGB size=70x71 at 0x7F15514EC0A0>"
            ]
          },
          "metadata": {},
          "output_type": "display_data"
        },
        {
          "data": {
            "image/png": "[encoded data removed]",
            "text/plain": [
              "<PIL.Image.Image image mode=RGB size=70x71 at 0x7F15514ECA90>"
            ]
          },
          "metadata": {},
          "output_type": "display_data"
        }
      ],
      "source": [
        "image = Image.open('4_1.jpg')\n",
        "C = len(image.getbands())\n",
        "\n",
        "N = 8\n",
        "\n",
        "generated = gpnn(image, N, T, R, alpha, P, C)\n",
        "generated.show()"
      ]
    }
  ],
  "metadata": {
    "accelerator": "GPU",
    "colab": {
      "gpuType": "T4",
      "provenance": []
    },
    "gpuClass": "standard",
    "kernelspec": {
      "display_name": "Python 3",
      "language": "python",
      "name": "python3"
    },
    "language_info": {
      "codemirror_mode": {
        "name": "ipython",
        "version": 3
      },
      "file_extension": ".py",
      "mimetype": "text/x-python",
      "name": "python",
      "nbconvert_exporter": "python",
      "pygments_lexer": "ipython3",
      "version": "3.7.6"
    },
    "orig_nbformat": 4
  },
  "nbformat": 4,
  "nbformat_minor": 0
}
